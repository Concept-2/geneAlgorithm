{
 "cells": [
  {
   "cell_type": "code",
   "execution_count": 65,
   "metadata": {},
   "outputs": [],
   "source": [
    "from deap import base, creator, tools, algorithms\n",
    "import random, numpy, seaborn\n",
    "import matplotlib.pyplot as plt"
   ]
  },
  {
   "cell_type": "code",
   "execution_count": 98,
   "metadata": {},
   "outputs": [],
   "source": [
    "class Knapsack:    \n",
    "    def __init__ (self):\n",
    "        self.items = []\n",
    "        self.capacity = 0\n",
    "        self.__initdata__()\n",
    "        \n",
    "    def __len__(self):\n",
    "        return len(self.items)\n",
    "    \n",
    "    def __initdata__(self):\n",
    "        self.items = [\n",
    "            (\"map\", 9, 150),\n",
    "            (\"compass\", 13, 35),\n",
    "            (\"water\", 153, 200),\n",
    "            (\"sandwich\", 50, 160),\n",
    "            (\"glucose\", 15, 60),\n",
    "            (\"tin\", 68, 45),\n",
    "            (\"banana\", 27, 60),\n",
    "            (\"apple\", 39, 40),\n",
    "            (\"cheese\", 23, 30),\n",
    "            (\"beer\", 52, 10),\n",
    "            (\"suntan cream\", 11, 70),\n",
    "            (\"camera\", 32, 30),\n",
    "            (\"t-shirt\", 24, 15),\n",
    "            (\"trousers\", 48, 10),\n",
    "            (\"umbrella\", 73, 40),\n",
    "            (\"waterproof trousers\", 42, 70),\n",
    "            (\"waterproof overclothes\", 43, 75),\n",
    "            (\"note-case\", 22, 80),\n",
    "            (\"sunglasses\", 7, 20),\n",
    "            (\"towel\", 18, 12),\n",
    "            (\"socks\", 4, 50),\n",
    "            (\"book\", 30, 10)]\n",
    "        \n",
    "        self.capacity = 400\n",
    "        \n",
    "    def getValue(self, chosenItems):\n",
    "        currentWeight = currentValue = 0\n",
    "        \n",
    "        for i in range(len(chosenItems)):\n",
    "            item, weight, value = self.items[i]\n",
    "            \n",
    "            if currentWeight + weight <= self.capacity:\n",
    "                currentWeight += chosenItems[i] * weight\n",
    "                currentValue += chosenItems[i] * value\n",
    "        \n",
    "        return currentValue"
   ]
  },
  {
   "cell_type": "code",
   "execution_count": 111,
   "metadata": {},
   "outputs": [],
   "source": [
    "popSize = 200\n",
    "crossover = 0.9\n",
    "mutation = 0.3\n",
    "generationsMax = 50\n",
    "HOFsize = 1"
   ]
  },
  {
   "cell_type": "code",
   "execution_count": 112,
   "metadata": {},
   "outputs": [],
   "source": [
    "toolbox = base.Toolbox()\n",
    "toolbox.register(\"bit\", random.randint, 0, 1)\n",
    "\n",
    "creator.create(\"FitnessMax\", base.Fitness, weights=(1.0,))\n",
    "creator.create(\"Individual\", list, fitness=creator.FitnessMax)\n",
    "\n",
    "toolbox.register(\"individualCreator\", tools.initRepeat, creator.Individual, toolbox.bit, len(knapsack))\n",
    "toolbox.register(\"populationCreator\", tools.initRepeat, list, toolbox.individualCreator)\n",
    "\n",
    "def knapsackValue(individual):\n",
    "    return knapsack.getValue(individual),\n",
    "toolbox.register(\"evaluate\", knapsackValue)\n",
    "\n",
    "toolbox.register(\"select\", tools.selTournament, tournsize=3)\n",
    "toolbox.register(\"mate\", tools.cxTwoPoint)\n",
    "toolbox.register(\"mutate\", tools.mutFlipBit, indpb=1.0/len(knapsack))"
   ]
  },
  {
   "cell_type": "code",
   "execution_count": 119,
   "metadata": {},
   "outputs": [
    {
     "name": "stdout",
     "output_type": "stream",
     "text": [
      "gen\tnevals\tmax\tavg    \n",
      "0  \t200   \t837\t577.245\n",
      "1  \t183   \t885\t680.785\n",
      "2  \t185   \t915\t761.01 \n",
      "3  \t194   \t955\t802.17 \n",
      "4  \t188   \t960\t823.125\n",
      "5  \t188   \t970\t858.88 \n",
      "6  \t188   \t1005\t876.135\n",
      "7  \t191   \t1005\t888.915\n",
      "8  \t188   \t1000\t903.495\n",
      "9  \t184   \t1005\t921.93 \n",
      "10 \t191   \t1005\t952.075\n",
      "11 \t182   \t1030\t967.72 \n",
      "12 \t183   \t1030\t977.13 \n",
      "13 \t192   \t1030\t971.2  \n",
      "14 \t185   \t1030\t975.67 \n",
      "15 \t181   \t1030\t976.585\n",
      "16 \t188   \t1030\t977.955\n",
      "17 \t187   \t1030\t980.89 \n",
      "18 \t184   \t1030\t984.44 \n",
      "19 \t185   \t1030\t985.765\n",
      "20 \t189   \t1030\t984.74 \n",
      "21 \t186   \t1030\t987.945\n",
      "22 \t176   \t1030\t996.415\n",
      "23 \t196   \t1030\t1005.5 \n",
      "24 \t174   \t1030\t1011.27\n",
      "25 \t193   \t1030\t1006.19\n",
      "26 \t195   \t1030\t1007.16\n",
      "27 \t187   \t1030\t1011.37\n",
      "28 \t192   \t1030\t1011.45\n",
      "29 \t179   \t1030\t1003.85\n",
      "30 \t183   \t1030\t1013.16\n",
      "31 \t191   \t1030\t1009.5 \n",
      "32 \t190   \t1030\t1013.01\n",
      "33 \t191   \t1030\t1001.44\n",
      "34 \t195   \t1030\t1012.17\n",
      "35 \t180   \t1030\t1006.55\n",
      "36 \t181   \t1030\t1003.83\n",
      "37 \t186   \t1030\t1006.35\n",
      "38 \t187   \t1030\t1006.83\n",
      "39 \t194   \t1030\t1016.76\n",
      "40 \t186   \t1030\t1011.88\n",
      "41 \t190   \t1030\t1009.59\n",
      "42 \t185   \t1030\t1003.59\n",
      "43 \t185   \t1030\t1014.5 \n",
      "44 \t184   \t1030\t1007.07\n",
      "45 \t177   \t1030\t1012.35\n",
      "46 \t185   \t1030\t1010.04\n",
      "47 \t188   \t1030\t1011.55\n",
      "48 \t189   \t1030\t1000.61\n",
      "49 \t194   \t1030\t1006.12\n",
      "50 \t188   \t1030\t1008.58\n",
      "Best Individual =  [1, 1, 1, 1, 1, 0, 1, 0, 0, 0, 1, 0, 0, 0, 0, 1, 1, 1, 1, 0, 1, 0]\n",
      "Best Fitness =  1030.0\n"
     ]
    }
   ],
   "source": [
    "population = toolbox.populationCreator(n=popSize)\n",
    "stats = tools.Statistics(lambda ind: ind.fitness.values)\n",
    "stats.register(\"max\", numpy.max)\n",
    "stats.register(\"avg\", numpy.mean)\n",
    "hof = tools.HallOfFame(HOFsize)\n",
    "    \n",
    "population, logbook = algorithms.eaSimple(population, toolbox, cxpb=crossover, mutpb=mutation, \n",
    "                                              ngen=generationsMax, stats=stats, halloffame=hof, verbose=True)\n",
    "best = hof.items[0]\n",
    "print(\"Best Individual = \", best)\n",
    "print(\"Best Fitness = \", best.fitness.values[0])\n",
    "    \n",
    "maxFitnessValues, meanFitnessValues = logbook.select(\"max\", \"avg\")    "
   ]
  },
  {
   "cell_type": "code",
   "execution_count": 117,
   "metadata": {},
   "outputs": [
    {
     "data": {
      "image/png": "[encoded data removed]",
      "text/plain": [
       "<Figure size 432x288 with 1 Axes>"
      ]
     },
     "metadata": {},
     "output_type": "display_data"
    }
   ],
   "source": [
    "seaborn.set_style(\"whitegrid\")\n",
    "plt.plot(maxFitnessValues, color='red')\n",
    "plt.plot(meanFitnessValues, color='green')\n",
    "plt.xlabel('Generation')\n",
    "plt.ylabel('Max / Average Fitness')\n",
    "plt.title('Max and Average fitness over Generations')\n",
    "plt.show()"
   ]
  },
  {
   "cell_type": "code",
   "execution_count": null,
   "metadata": {},
   "outputs": [],
   "source": []
  }
 ],
 "metadata": {
  "kernelspec": {
   "display_name": "Python 3",
   "language": "python",
   "name": "python3"
  },
  "language_info": {
   "codemirror_mode": {
    "name": "ipython",
    "version": 3
   },
   "file_extension": ".py",
   "mimetype": "text/x-python",
   "name": "python",
   "nbconvert_exporter": "python",
   "pygments_lexer": "ipython3",
   "version": "3.8.3"
  }
 },
 "nbformat": 4,
 "nbformat_minor": 4
}
